{
 "cells": [
  {
   "cell_type": "code",
   "execution_count": 2,
   "metadata": {},
   "outputs": [],
   "source": [
    "from utils import get_openai_completion"
   ]
  },
  {
   "cell_type": "markdown",
   "metadata": {},
   "source": [
    "## Improve few shot prompt using CoT"
   ]
  },
  {
   "cell_type": "markdown",
   "metadata": {},
   "source": [
    "#### zero shot prompt"
   ]
  },
  {
   "cell_type": "code",
   "execution_count": 17,
   "metadata": {},
   "outputs": [
    {
     "data": {
      "text/plain": [
       "'{\\n    \"values\": [2, 3]\\n}'"
      ]
     },
     "execution_count": 17,
     "metadata": {},
     "output_type": "execute_result"
    }
   ],
   "source": [
    "prompt = f\"\"\"\n",
    "    For following equation: x^2 - 5x + 6 = 0\n",
    "\n",
    "    Return possible x values as json with key 'values'\n",
    "\"\"\"\n",
    "\n",
    "get_openai_completion(prompt=prompt)"
   ]
  },
  {
   "cell_type": "markdown",
   "metadata": {},
   "source": [
    "#### CoT"
   ]
  },
  {
   "cell_type": "code",
   "execution_count": 3,
   "metadata": {},
   "outputs": [
    {
     "data": {
      "text/plain": [
       "'{\\n    \"values\": {\\n        \"x1\": 2,\\n        \"x2\": 3\\n    }\\n}'"
      ]
     },
     "execution_count": 3,
     "metadata": {},
     "output_type": "execute_result"
    }
   ],
   "source": [
    "prompt = f\"\"\"\n",
    "    following quadratic equation step-by-step: x^2 - 5x + 6 = 0.\n",
    "    1. Identify the coefficients a, b, and c in the quadratic equation (ax^2 + bx + c = 0).\n",
    "    2. Use the quadratic formula (-b ± √(b^2 - 4ac)) / 2a to find the roots of the equation.\n",
    "    3. Substitute the values of a, b, and c into the quadratic formula to calculate the roots.\n",
    "    4. Simplify the equation to determine the two possible values of x.\n",
    "    5. Check the solutions by substituting them back into the original equation to ensure they satisfy it.\n",
    "    6. Write down the final solutions for x.\n",
    "\n",
    "    Return possible x values as json with key 'values'\n",
    "\"\"\"\n",
    "\n",
    "get_openai_completion(prompt=prompt)"
   ]
  },
  {
   "cell_type": "markdown",
   "metadata": {},
   "source": [
    "## self consistency"
   ]
  },
  {
   "cell_type": "code",
   "execution_count": 5,
   "metadata": {},
   "outputs": [
    {
     "data": {
      "text/plain": [
       "\"Let's denote the number of cars as C and the number of bikes as B.\\n\\nEach car has 4 tires and each bike has 2 tires. So, the total number of tires can be expressed as:\\n4C + 2B = 28\\n\\nWe also know that John has a total of 10 vehicles, so:\\nC + B = 10\\n\\nNow we can solve these two equations simultaneously to find the values of C and B.\\n\\nFrom the second equation, we can express C as:\\nC = 10 - B\\n\\nSubstitute this into the first equation:\\n4(10 - B) + 2B = 28\\n40 - 4B + 2B = 28\\n40 - 2B = 28\\n-2B = -12\\nB = 6\\n\\nNow substitute the value of B back into the equation C = 10 - B:\\nC = 10 - 6\\nC = 4\\n\\nTherefore, John has 4 cars and 6 bikes.\""
      ]
     },
     "execution_count": 5,
     "metadata": {},
     "output_type": "execute_result"
    }
   ],
   "source": [
    "prompt = f\"\"\"\n",
    "    John has 10 vehcles and the total number of tires is 28, \n",
    "    how many cars and bikes does John have?\n",
    "\"\"\"\n",
    "\n",
    "get_openai_completion(prompt=prompt)"
   ]
  },
  {
   "cell_type": "code",
   "execution_count": 6,
   "metadata": {},
   "outputs": [
    {
     "data": {
      "text/plain": [
       "\"Let's denote the number of cars as x and the number of bikes as y. Each car has 4 tires and each bike has 2 tires. \\nSo, the total number of tires can be represented as 4x (cars) + 2y (bikes) = 28. \\nGiven that John has 10 vehicles, we also know that x + y = 10. \\nSolving these two equations simultaneously, we get x = 6 and y = 4. \\nTherefore, John has 6 cars and 4 bikes.\""
      ]
     },
     "execution_count": 6,
     "metadata": {},
     "output_type": "execute_result"
    }
   ],
   "source": [
    "prompt = f\"\"\"\n",
    "    Q: Maria has x pens and y pencils. Each pen has 2 parts, and each pencil has 1 part. If the total number\n",
    "    of writing instruments is 15 and the total number of parts is 25, how many pens and pencils does Maria\n",
    "    have, and what is the total writing instrument count and total part count?\n",
    "    A: Total writing instruments: x (pens) + y (pencils) = 15, Total parts: 2x (pens) + 1y (pencils) = 25,\n",
    "    Solving, we get x = 10, y = 5. Maria has 10 pens and 5 pencils\n",
    "\n",
    "    Q: Tom has x apples and y oranges. Each apple has 1 seed, and each orange has 5 seeds. If the total number\n",
    "    of fruits is 12 and the total number of seeds is 45, how many apples and oranges does Tom have, and what\n",
    "    is the total fruit count and total seed count?\n",
    "    A: Total fruits: x (apples) + y (oranges) = 12,Total seeds: 1x (apples) + 5y (oranges) = 45,\n",
    "    Solving, we get x = 9, y = 3. Tom has 9 apples and 3 oranges\n",
    "\n",
    "    Q: Emily has x shirts and y pants. Each shirt has 3 buttons, and each pant has 1 button. If the total\n",
    "    number of clothing items is 16 and the total number of buttons is 38, how many shirts and pants does Emily \n",
    "    have, and what is the total clothing item count and total button count?\n",
    "    A: Total clothing items: x (shirts) + y (pants) = 16,Total buttons: 3x (shirts) + 1y (pants) = 38,\n",
    "    Solving, we get x = 14, y = 2. Emily has 14 shirts and 2 pants.\n",
    "\n",
    "    Q: John has 10 vehcles and the total number of tires is 28, \n",
    "    how many cars and bikes does John have?\n",
    "    A:\n",
    "\"\"\"\n",
    "\n",
    "get_openai_completion(prompt=prompt)"
   ]
  },
  {
   "cell_type": "markdown",
   "metadata": {},
   "source": [
    "## Generated Knowledge Prompting"
   ]
  },
  {
   "cell_type": "code",
   "execution_count": 23,
   "metadata": {},
   "outputs": [
    {
     "data": {
      "text/plain": [
       "'Yes, the mathematics teacher can teach valuable life lessons to students such as problem-solving skills, critical thinking, perseverance, and the importance of hard work and practice.'"
      ]
     },
     "execution_count": 23,
     "metadata": {},
     "output_type": "execute_result"
    }
   ],
   "source": [
    "prompt = f\"\"\"\n",
    "    The mathematics teacher will teach valuable life lessons to the students, Yes or no?\n",
    "\"\"\"\n",
    "\n",
    "get_openai_completion(prompt=prompt)"
   ]
  },
  {
   "cell_type": "markdown",
   "metadata": {},
   "source": [
    "#### we generate a few \"knowledges\""
   ]
  },
  {
   "cell_type": "code",
   "execution_count": 10,
   "metadata": {},
   "outputs": [
    {
     "data": {
      "text/plain": [
       "'Knowledge: Mathematics teachers play a crucial role in imparting valuable knowledge and skills to students in the subject of mathematics. They help students understand mathematical concepts, problem-solving techniques, and critical thinking skills that are essential for their academic and personal growth.'"
      ]
     },
     "execution_count": 10,
     "metadata": {},
     "output_type": "execute_result"
    }
   ],
   "source": [
    "prompt = f\"\"\"\n",
    "Input: The Great Wall of China is longer than the distance between New York and Los Angeles.\n",
    "Knowledge: The Great Wall of China is approximately 21,196 kilometers long, while the distance\n",
    "between New York and Los Angeles is approximately 4,501 kilometers, making the Great Wall of China\n",
    "nearly 4.7 times longer than the distance between the two cities.\n",
    "\n",
    "Input: A blue whale is heavier than an elephant.\n",
    "Knowledge: A blue whale weighs approximately 200,000 kilograms, while an elephant weighs approximately\n",
    "5,443 kilograms, making a blue whale approximately 36 times heavier than an elephant.\n",
    "\n",
    "Input: Mount Everest is taller than the tallest building in the world.\n",
    "Knowledge: Mount Everest's height is approximately 8,848 meters, while the height of the tallest building\n",
    "in the world, the Burj Khalifa, is approximately 828 meters, making Mount Everest more than 10 times\n",
    "taller than the Burj Khalifa.\n",
    "\n",
    "Input : The mathematics teacher will teach valuable life lessons to the students\n",
    "\"\"\"\n",
    "\n",
    "get_openai_completion(prompt=prompt)"
   ]
  },
  {
   "cell_type": "markdown",
   "metadata": {},
   "source": [
    "####  integrate the knowledge and get a prediction."
   ]
  },
  {
   "cell_type": "code",
   "execution_count": 25,
   "metadata": {},
   "outputs": [
    {
     "data": {
      "text/plain": [
       "'Yes, the mathematics teacher can teach valuable life lessons to the students. While their primary focus may be on teaching mathematical concepts and problem-solving skills, they also help students develop important skills such as critical thinking, logical reasoning, and perseverance. These skills are not only valuable in the context of mathematics but also in various aspects of life. By challenging students to think critically, solve problems, and persevere through difficult tasks, mathematics teachers can instill important life lessons that can benefit students beyond the classroom.'"
      ]
     },
     "execution_count": 25,
     "metadata": {},
     "output_type": "execute_result"
    }
   ],
   "source": [
    "prompt = f\"\"\"\n",
    "Question : The mathematics teacher will teach valuable life lessons to the students, yes or no\n",
    "Knowledge: Mathematics teachers play a crucial role in imparting valuable knowledge and skills to \n",
    "students in the subject of mathematics. They help students understand mathematical concepts, \n",
    "problem-solving techniques, and critical thinking skills that are essential for their academic and personal growth.\n",
    "\n",
    "Explain and Answer: \n",
    "\"\"\"\n",
    "\n",
    "get_openai_completion(prompt=prompt)"
   ]
  },
  {
   "cell_type": "markdown",
   "metadata": {},
   "source": [
    "## ReAct"
   ]
  },
  {
   "cell_type": "markdown",
   "metadata": {},
   "source": [
    "#### zero-shot prompt"
   ]
  },
  {
   "cell_type": "code",
   "execution_count": 27,
   "metadata": {},
   "outputs": [
    {
     "data": {
      "text/plain": [
       "'The surface area of a sphere is given by the formula: 4πr^2, where r is the radius of the sphere.\\n\\nGiven that the radius of the sphere is 5 units, we can plug this value into the formula:\\n\\nSurface area = 4π(5)^2\\nSurface area = 4π(25)\\nSurface area = 100π\\n\\nTherefore, the surface area of a sphere with a radius of 5 units is 100π square units.'"
      ]
     },
     "execution_count": 27,
     "metadata": {},
     "output_type": "execute_result"
    }
   ],
   "source": [
    "prompt = f\"\"\"\n",
    "    What is the surface area of a sphere with a radius of 5 units?\n",
    "\"\"\"\n",
    "get_openai_completion(prompt=prompt)"
   ]
  },
  {
   "cell_type": "markdown",
   "metadata": {},
   "source": [
    "#### sample ReAct prompt"
   ]
  },
  {
   "cell_type": "code",
   "execution_count": 43,
   "metadata": {},
   "outputs": [
    {
     "data": {
      "text/plain": [
       "'Conclusion: The surface area of a sphere with a radius of 5 units is 314 square units.'"
      ]
     },
     "execution_count": 43,
     "metadata": {},
     "output_type": "execute_result"
    }
   ],
   "source": [
    "prompt = f\"\"\"\n",
    "    Question: What is the surface area of a sphere with a radius of 5 units?\n",
    "    Thought 1: I need to recall the formula for the surface area of a sphere.\n",
    "    Action 1: Recall[Surface area of a sphere formula]\n",
    "    Observation 1: The formula for the surface area of a sphere is 4πr², where r is the radius.\n",
    "    Thought 2: I need to substitute the given radius (5 units) into the formula to find the surface area.\n",
    "    Action 2: Calculate[4π(5)²]\n",
    "    Observation 2: Calculating, 4π(5)² = 4π(25) = 100π square units.\n",
    "    Thought 3: I need to substitute π with 3.14\n",
    "    Action 3: Calculation[100*3.14]\n",
    "    Observation 3: Calculating, 100*3.14 = 314 square units\n",
    "    Thought 3: The surface area of a sphere with a radius of 5 units is 314 square units.\n",
    "    Action 3: Finish[314 square units]\n",
    "\n",
    "\"\"\"\n",
    "\n",
    "get_openai_completion(prompt=prompt)"
   ]
  },
  {
   "cell_type": "markdown",
   "metadata": {},
   "source": [
    "#### Langchain ReAct usage"
   ]
  },
  {
   "cell_type": "code",
   "execution_count": 42,
   "metadata": {},
   "outputs": [
    {
     "name": "stdout",
     "output_type": "stream",
     "text": [
      "\n",
      "\n",
      "\u001b[1m> Entering new AgentExecutor chain...\u001b[0m\n",
      "\u001b[32;1m\u001b[1;3m I need to calculate the surface area of a sphere using the given radius.\n",
      "Action: Calculator\n",
      "Action Input: π * 5^2\u001b[0m\n",
      "Observation: \u001b[33;1m\u001b[1;3mAnswer: 78.53981633974483\u001b[0m\n",
      "Thought:\u001b[32;1m\u001b[1;3m I need to take the result of π * 5^2 and multiply it by 4.\n",
      "Action: Calculator\n",
      "Action Input: 78.53981633974483 * 4\u001b[0m\n",
      "Observation: \u001b[33;1m\u001b[1;3mAnswer: 314.1592653589793\u001b[0m\n",
      "Thought:\u001b[32;1m\u001b[1;3m I now know the final answer\n",
      "Final Answer: The surface area of a sphere with a radius of 5 units is 314.1592653589793 square units.\u001b[0m\n",
      "\n",
      "\u001b[1m> Finished chain.\u001b[0m\n"
     ]
    },
    {
     "data": {
      "text/plain": [
       "'The surface area of a sphere with a radius of 5 units is 314.1592653589793 square units.'"
      ]
     },
     "execution_count": 42,
     "metadata": {},
     "output_type": "execute_result"
    }
   ],
   "source": [
    "import os\n",
    "from langchain.llms import OpenAI\n",
    "from langchain.agents import load_tools\n",
    "from langchain.agents import initialize_agent\n",
    "from langchain.agents import AgentType\n",
    "\n",
    "os.environ[\"SERPER_API_KEY\"] = 'cf20cf4424a142ec7e265429525cfaa7b4f8e1da'\n",
    "\n",
    "\n",
    "llm = OpenAI(model_name=\"gpt-3.5-turbo-instruct\" ,temperature=.9)\n",
    "tools = load_tools([\"google-serper\", \"llm-math\"], llm=llm)\n",
    "agent = initialize_agent(tools, \n",
    "                         llm, \n",
    "                         agent=AgentType.ZERO_SHOT_REACT_DESCRIPTION,\n",
    "                         verbose=True,\n",
    "\n",
    "                        )\n",
    "\n",
    "agent.run({\n",
    "        \"input\": \"What is the surface area of a sphere with a radius of 5 units?\"\n",
    "    })"
   ]
  }
 ],
 "metadata": {
  "kernelspec": {
   "display_name": ".venv",
   "language": "python",
   "name": "python3"
  },
  "language_info": {
   "codemirror_mode": {
    "name": "ipython",
    "version": 3
   },
   "file_extension": ".py",
   "mimetype": "text/x-python",
   "name": "python",
   "nbconvert_exporter": "python",
   "pygments_lexer": "ipython3",
   "version": "3.11.7"
  }
 },
 "nbformat": 4,
 "nbformat_minor": 2
}
