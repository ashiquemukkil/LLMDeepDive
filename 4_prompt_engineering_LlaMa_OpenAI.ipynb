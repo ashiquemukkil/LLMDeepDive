{
 "cells": [
  {
   "cell_type": "code",
   "execution_count": 1,
   "metadata": {},
   "outputs": [],
   "source": [
    "from utils import get_llama_completion,get_openai_completion"
   ]
  },
  {
   "cell_type": "markdown",
   "metadata": {},
   "source": [
    "## Elements of prompt\n",
    "> 1. Instruction - a specific task model want to perform\n",
    "> 2. Context - additional information with query for better model responses \n",
    "> 3. Input Data - the input or question that we are interested to find a response for\n",
    "> 4. Output Indicator - the type or format of the output."
   ]
  },
  {
   "cell_type": "code",
   "execution_count": 13,
   "metadata": {},
   "outputs": [
    {
     "name": "stdout",
     "output_type": "stream",
     "text": [
      "{\n",
      "    \"Response\": \"Machine learning is a field that involves developing algorithms and models to enable computers to learn from data, make predictions, and decisions based on that data.\"\n",
      "}\n"
     ]
    }
   ],
   "source": [
    "text = f\"\"\"\n",
    "Machine learning is a field of study that focuses \\\n",
    "on developing algorithms and models that allow \\\n",
    "computers to learn from and make predictions or \\\n",
    "decisions based on data. It involves training \\\n",
    "a model on a dataset, evaluating its performance, \\\n",
    "and using it to make predictions on new, unseen data.\n",
    "\"\"\"\n",
    "\n",
    "prompt = f\"\"\"\n",
    "Summarize the given text into a single sentence.\n",
    "```{text}```\n",
    "\n",
    "Finally, keep the response as JSON format with key 'Responce'\n",
    "\"\"\"\n",
    "\n",
    "response = get_openai_completion(prompt)\n",
    "print(response)"
   ]
  },
  {
   "cell_type": "markdown",
   "metadata": {},
   "source": [
    "## Zeroshot inference"
   ]
  },
  {
   "cell_type": "code",
   "execution_count": 10,
   "metadata": {},
   "outputs": [
    {
     "name": "stdout",
     "output_type": "stream",
     "text": [
      "Chatbot: I'm sorry to hear that your laptop is not turning on. Let's try a few troubleshooting steps to see if we can resolve the issue. First, make sure the laptop is plugged in and the power adapter is working. If it's still not turning on, try holding down the power button for 10-15 seconds to reset it. If that doesn't work, it may be a hardware issue and you may need to contact our customer support for further assistance.\n"
     ]
    }
   ],
   "source": [
    "context = f\"\"\"\n",
    "    You are developing a customer support chatbot for a \\\n",
    "    company that sells electronic gadgets. The chatbot \\\n",
    "    should be able to provide helpful responses to common \\\n",
    "    customer queries and issues.\n",
    "\"\"\"\n",
    "\n",
    "prompt = f\"\"\"\n",
    "context : {context}\n",
    "\n",
    "Complete bellow conversation \n",
    "\n",
    "User: \"My laptop won't turn on. What should I do?\"\n",
    "Chatbot:\n",
    "\"\"\"\n",
    "\n",
    "response = get_openai_completion(prompt)\n",
    "print(response)"
   ]
  },
  {
   "cell_type": "markdown",
   "metadata": {},
   "source": [
    "## Manyshot inference"
   ]
  },
  {
   "cell_type": "code",
   "execution_count": 11,
   "metadata": {},
   "outputs": [
    {
     "name": "stdout",
     "output_type": "stream",
     "text": [
      "Let's start by checking if the power adapter is properly connected to your laptop and if the power outlet is working. If that doesn't solve the issue, try holding down the power button for 10-15 seconds to perform a hard reset. If the problem persists, please visit our website at 'https://techsupport.com/troubleshooting' for further assistance.\n"
     ]
    }
   ],
   "source": [
    "context = f\"\"\"\n",
    "    You are developing a customer support chatbot for a \\\n",
    "    company that sells electronic gadgets. The chatbot \\\n",
    "    should be able to provide helpful responses to common \\\n",
    "    customer queries and issues.\n",
    "\"\"\"\n",
    "\n",
    "prompt = f\"\"\"\n",
    "Example 1:\n",
    "User: \"How do I replace the keyboard on my laptop?\"\n",
    "Chatbot : Let's start with a few troubleshooting steps. \\\n",
    "    First, ensure that all the necessary driver software for\\\n",
    "    your keyboard is installed. If you prefer to replace the \\\n",
    "    keyboard, please visit our website at 'https://techsupport.com/keyboard' \\\n",
    "    for further assistance.\n",
    "\n",
    "Example 2:\n",
    "User: \"My laptop's battery is damaged. How can I fix it?\"\n",
    "Chatbot : Let's begin with some troubleshooting steps. First, \\\n",
    "    ensure that your battery is being recharged properly.\\\n",
    "    If you need to replace the battery, please visit our\\\n",
    "    website at 'https://techsupport.com/keyboard' for assistance.\n",
    "\n",
    "context : {context}\n",
    "\n",
    "Complete bellow conversation \n",
    "\n",
    "User: \"My laptop won't turn on. What should I do?\"\n",
    "Chatbot:\n",
    "\"\"\"\n",
    "\n",
    "response = get_openai_completion(prompt)\n",
    "print(response)"
   ]
  },
  {
   "cell_type": "markdown",
   "metadata": {},
   "source": [
    "## Different NLP Application"
   ]
  },
  {
   "cell_type": "code",
   "execution_count": 2,
   "metadata": {},
   "outputs": [],
   "source": [
    "context = f\"\"\"\n",
    "    \"Albert Einstein was a German-born theoretical physicist who \\\n",
    "    developed the theory of relativity, one of the two pillars of modern physics. \\\n",
    "    His work is also known for its influence on the philosophy of science.\\\n",
    "    He was born on March 14, 1879, in Ulm, in the Kingdom of Württemberg in the \\\n",
    "    German Empire. Einstein moved to Switzerland in 1895 and renounced his German citizenship\\\n",
    "    in 1896. He received his Ph.D. from the University of Zurich in 1905.\"\n",
    "\"\"\""
   ]
  },
  {
   "cell_type": "markdown",
   "metadata": {},
   "source": [
    "#### NER (Named Entity Recognition)"
   ]
  },
  {
   "cell_type": "markdown",
   "metadata": {},
   "source": [
    "###### OpenAI (GPT 3.5)"
   ]
  },
  {
   "cell_type": "code",
   "execution_count": 15,
   "metadata": {},
   "outputs": [
    {
     "name": "stdout",
     "output_type": "stream",
     "text": [
      "- Albert Einstein (person)\n",
      "- Germany (location)\n",
      "- Ulm (location)\n",
      "- Kingdom of Württemberg (location)\n",
      "- German Empire (location)\n",
      "- Switzerland (location)\n",
      "- University of Zurich (organization)\n"
     ]
    }
   ],
   "source": [
    "prompt = f\"\"\"\n",
    "context : {context}\n",
    "\n",
    "Identify and label all named entities in the text.\n",
    "\"\"\"\n",
    "\n",
    "response = get_openai_completion(prompt)\n",
    "print(response)"
   ]
  },
  {
   "cell_type": "markdown",
   "metadata": {},
   "source": [
    "###### LLaMA2"
   ]
  },
  {
   "cell_type": "code",
   "execution_count": 3,
   "metadata": {},
   "outputs": [
    {
     "name": "stdout",
     "output_type": "stream",
     "text": [
      " Sure! Here are the named entities identified in the text:\n",
      "\n",
      "1. Albert Einstein\n",
      "2. Germany\n",
      "3. Kingdom of Württemberg\n",
      "4. German Empire\n",
      "5. Switzerland\n",
      "6. University of Zurich\n"
     ]
    }
   ],
   "source": [
    "prompt = f\"\"\"\n",
    "context : {context}\n",
    "\n",
    "Identify and label all named entities in the text.\n",
    "\"\"\"\n",
    "\n",
    "response = get_llama_completion(prompt)\n",
    "print(response)"
   ]
  },
  {
   "cell_type": "markdown",
   "metadata": {},
   "source": [
    "### Classification"
   ]
  },
  {
   "cell_type": "markdown",
   "metadata": {},
   "source": [
    "###### OpenAI (GPT 3.5)"
   ]
  },
  {
   "cell_type": "code",
   "execution_count": 16,
   "metadata": {},
   "outputs": [
    {
     "name": "stdout",
     "output_type": "stream",
     "text": [
      "Biography\n"
     ]
    }
   ],
   "source": [
    "prompt = f\"\"\"\n",
    "context : {context}\n",
    "\n",
    "Classify the text into one of the following categories: Biography, Physics, or History.\n",
    "\"\"\"\n",
    "\n",
    "response = get_openai_completion(prompt)\n",
    "print(response)"
   ]
  },
  {
   "cell_type": "markdown",
   "metadata": {},
   "source": [
    "###### LLaMA2"
   ]
  },
  {
   "cell_type": "code",
   "execution_count": 23,
   "metadata": {},
   "outputs": [
    {
     "name": "stdout",
     "output_type": "stream",
     "text": [
      " Okay! Based on the given text, I would classify it under the category of \"Biography\". This is because the text primarily focuses on the personal details and life events of Albert Einstein, such as his birthplace, citizenship, education, and notable achievements in physics. While the text does mention Einstein's contributions to the philosophy of science, the primary focus remains on his biographical information.\n"
     ]
    }
   ],
   "source": [
    "prompt = f\"\"\"\n",
    "context : {context}\n",
    "\n",
    "Classify the text into one of the following categories: Biography, Physics, or History.\n",
    "\"\"\"\n",
    "\n",
    "response = get_llama_completion(prompt)\n",
    "print(response)"
   ]
  },
  {
   "cell_type": "markdown",
   "metadata": {},
   "source": [
    "### Summarization"
   ]
  },
  {
   "cell_type": "markdown",
   "metadata": {},
   "source": [
    "###### OpenAI (GPT 3.5)"
   ]
  },
  {
   "cell_type": "code",
   "execution_count": 17,
   "metadata": {},
   "outputs": [
    {
     "name": "stdout",
     "output_type": "stream",
     "text": [
      "Albert Einstein, a German-born theoretical physicist, developed the theory of relativity and had a significant influence on the philosophy of science before moving to Switzerland and receiving his Ph.D. in 1905.\n"
     ]
    }
   ],
   "source": [
    "prompt = f\"\"\"\n",
    "context : {context}\n",
    "\n",
    "Generate a one-sentence summary of the text.\n",
    "\"\"\"\n",
    "\n",
    "response = get_openai_completion(prompt)\n",
    "print(response)"
   ]
  },
  {
   "cell_type": "markdown",
   "metadata": {},
   "source": [
    "###### LLaMA2"
   ]
  },
  {
   "cell_type": "code",
   "execution_count": 24,
   "metadata": {},
   "outputs": [
    {
     "name": "stdout",
     "output_type": "stream",
     "text": [
      " Albert Einstein, a theoretical physicist born in Germany, developed the theory of relativity and had significant influence on the philosophy of science, renouncing his German citizenship in 1896 and receiving his Ph.D. from the University of Zurich in 1905.\n"
     ]
    }
   ],
   "source": [
    "prompt = f\"\"\"\n",
    "context : {context}\n",
    "\n",
    "Generate a one-sentence summary of the text.\n",
    "\"\"\"\n",
    "\n",
    "response = get_llama_completion(prompt)\n",
    "print(response)"
   ]
  },
  {
   "cell_type": "markdown",
   "metadata": {},
   "source": [
    "### Text Generation"
   ]
  },
  {
   "cell_type": "markdown",
   "metadata": {},
   "source": [
    "###### OpenAI (GPT 3.5)"
   ]
  },
  {
   "cell_type": "code",
   "execution_count": 18,
   "metadata": {},
   "outputs": [
    {
     "name": "stdout",
     "output_type": "stream",
     "text": [
      "Einstein's groundbreaking discoveries revolutionized the field of physics and earned him worldwide recognition. His famous equation, E=mc^2, demonstrated the equivalence of mass and energy, leading to the development of nuclear energy and the atomic bomb. Einstein's theories challenged traditional Newtonian physics and paved the way for new understandings of the universe, including the concept of space-time and the bending of light by gravity. His work continues to inspire scientists and thinkers to this day, solidifying his legacy as one of the greatest minds in history.\n"
     ]
    }
   ],
   "source": [
    "prompt = f\"\"\"\n",
    "context : {context}\n",
    "\n",
    "Generate one more paragraph to describe the discovery of him.\n",
    "\"\"\"\n",
    "\n",
    "response = get_openai_completion(prompt)\n",
    "print(response)"
   ]
  },
  {
   "cell_type": "markdown",
   "metadata": {},
   "source": [
    "###### LLaMA2"
   ]
  },
  {
   "cell_type": "code",
   "execution_count": 25,
   "metadata": {},
   "outputs": [
    {
     "name": "stdout",
     "output_type": "stream",
     "text": [
      "Sure, here is a possible additional paragraph that describes Einstein's discovery:\n",
      "\n",
      "Einstein's groundbreaking work in physics was not only a result of his brilliant mind and innovative thinking, but also a product of his curiosity and determination. Born in Ulm, Germany in 1879, Einstein always had a thirst for knowledge and an insatiable desire to understand the mysteries of the universe. As a young man, he was fascinated by the work of James Clerk Maxwell, who had formulated the laws of electromagnetism. Einstein spent countless hours studying Maxwell's equations and pondering their implications, eventually arriving at his famous theory of special relativity. This theory challenged the long-held belief that time and space were absolute, and instead introduced the concept of relative motion and the idea that the laws of physics are the same for all observers in uniform motion. Einstein's discovery not only revolutionized the field of physics but also had far-reaching implications for our understanding of the universe as a whole.\n"
     ]
    }
   ],
   "source": [
    "prompt = f\"\"\"\n",
    "context : {context}\n",
    "\n",
    "Generate one more paragraph to describe the discovery of him.\n",
    "\"\"\"\n",
    "\n",
    "response = get_llama_completion(prompt)\n",
    "print(response)"
   ]
  },
  {
   "cell_type": "markdown",
   "metadata": {},
   "source": [
    "### Sentiment Analysis"
   ]
  },
  {
   "cell_type": "markdown",
   "metadata": {},
   "source": [
    "###### OpenAI (GPT 3.5)"
   ]
  },
  {
   "cell_type": "code",
   "execution_count": 20,
   "metadata": {},
   "outputs": [
    {
     "data": {
      "text/plain": [
       "\"The sentiment of the above text is generally positive and admiring towards Albert Einstein. It highlights his significant contributions to the field of physics, particularly his development of the theory of relativity. The text also mentions his influence on the philosophy of science, indicating his impact beyond just the scientific community. Additionally, the text provides some background information about Einstein's early life and education, painting a picture of a brilliant and accomplished individual. Overall, the sentiment towards Albert Einstein in the text is one of respect and admiration for his achievements.\""
      ]
     },
     "execution_count": 20,
     "metadata": {},
     "output_type": "execute_result"
    }
   ],
   "source": [
    "prompt = f\"\"\"\n",
    "context : {context}\n",
    "\n",
    "Analyse the sentiment of the Above text\n",
    "\"\"\"\n",
    "\n",
    "response = get_openai_completion(prompt)\n",
    "print(response)"
   ]
  },
  {
   "cell_type": "markdown",
   "metadata": {},
   "source": [
    "###### LLaMA2"
   ]
  },
  {
   "cell_type": "code",
   "execution_count": 26,
   "metadata": {},
   "outputs": [
    {
     "name": "stdout",
     "output_type": "stream",
     "text": [
      "The sentiment of the text is largely positive, with a few negative connotations. Here's an analysis of the sentiment in the text:\n",
      "\n",
      "Positive words:\n",
      "\n",
      "* \"theoretical physicist\" (a prestigious title)\n",
      "* \"developed\" (indicates success and achievement)\n",
      "* \"influence\" (suggests impact and significance)\n",
      "* \"philosophy of science\" (acknowledges Einstein's contributions to a broader field)\n",
      "\n",
      "Negative words:\n",
      "\n",
      "* \"German-born\" (not necessarily a negative connotation, but could be seen as limiting his identity)\n",
      "* \"renounced\" (suggests a sense of leaving behind something or someone)\n",
      "* \"citizenship\" (could be seen as a negative aspect of Einstein's life)\n",
      "\n",
      "Overall, the sentiment of the text is positive, highlighting Einstein's achievements and contributions to science. However, there are some nuances that suggest a more complex view of his identity and experiences.\n"
     ]
    }
   ],
   "source": [
    "prompt = f\"\"\"\n",
    "context : {context}\n",
    "\n",
    "Analyse the sentiment of the Above text\n",
    "\"\"\"\n",
    "\n",
    "response = get_llama_completion(prompt)\n",
    "print(response)"
   ]
  },
  {
   "cell_type": "markdown",
   "metadata": {},
   "source": [
    "### Text Translation"
   ]
  },
  {
   "cell_type": "markdown",
   "metadata": {},
   "source": [
    "###### OpenAI (GPT 3.5)"
   ]
  },
  {
   "cell_type": "code",
   "execution_count": 21,
   "metadata": {},
   "outputs": [
    {
     "name": "stdout",
     "output_type": "stream",
     "text": [
      "Albert Einstein était un physicien théoricien né en Allemagne qui a développé la théorie de la relativité, l'un des deux piliers de la physique moderne. Son travail est également connu pour son influence sur la philosophie des sciences. Il est né le 14 mars 1879 à Ulm, dans le royaume de Wurtemberg dans l'Empire allemand. Einstein a déménagé en Suisse en 1895 et a renoncé à sa citoyenneté allemande en 1896. Il a obtenu son doctorat de l'Université de Zurich en 1905.\n"
     ]
    }
   ],
   "source": [
    "prompt = f\"\"\"\n",
    "context : {context}\n",
    "\n",
    "Translate the Above text from English to French\n",
    "\"\"\"\n",
    "\n",
    "response = get_openai_completion(prompt)\n",
    "print(response)"
   ]
  },
  {
   "cell_type": "markdown",
   "metadata": {},
   "source": [
    "###### LLaMA2"
   ]
  },
  {
   "cell_type": "code",
   "execution_count": 27,
   "metadata": {},
   "outputs": [
    {
     "name": "stdout",
     "output_type": "stream",
     "text": [
      " Sure! Here is the translation of the text from English to French:\n",
      "\n",
      "\"Albert Einstein était un physicien théorique allemand né en 1879 à Ulm, dans le royaume de Wurtemberg de l'Empire allemand. Son travail est également connu pour son influence sur la philosophie de la science. Il a été né le 14 mars 1879 à Ulm, dans l'Empire allemand. Einstein a déménagé en Suisse en 1895 et a renoncé à sa citoyenneté allemande en 1896. Il a reçu son Doctorat de l'Université de Zurich en 1905.\"\n",
      "\n",
      "I hope this helps! Let me know if you have any questions or need further assistance.\n"
     ]
    }
   ],
   "source": [
    "prompt = f\"\"\"\n",
    "context : {context}\n",
    "\n",
    "Translate the Above text from English to French\n",
    "\"\"\"\n",
    "\n",
    "response = get_llama_completion(prompt)\n",
    "print(response)"
   ]
  }
 ],
 "metadata": {
  "kernelspec": {
   "display_name": ".venv",
   "language": "python",
   "name": "python3"
  },
  "language_info": {
   "codemirror_mode": {
    "name": "ipython",
    "version": 3
   },
   "file_extension": ".py",
   "mimetype": "text/x-python",
   "name": "python",
   "nbconvert_exporter": "python",
   "pygments_lexer": "ipython3",
   "version": "3.11.7"
  }
 },
 "nbformat": 4,
 "nbformat_minor": 2
}
